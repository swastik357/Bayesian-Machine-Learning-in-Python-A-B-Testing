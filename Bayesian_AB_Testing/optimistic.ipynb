{
  "nbformat": 4,
  "nbformat_minor": 0,
  "metadata": {
    "colab": {
      "provenance": []
    },
    "kernelspec": {
      "name": "python3",
      "display_name": "Python 3"
    },
    "language_info": {
      "name": "python"
    }
  },
  "cells": [
    {
      "cell_type": "code",
      "execution_count": 1,
      "metadata": {
        "id": "op2dC9C61BVt"
      },
      "outputs": [],
      "source": [
        "# From the course: Bayesin Machine Learning in Python: A/B Testing\n",
        "# https://deeplearningcourses.com/c/bayesian-machine-learning-in-python-ab-testing\n",
        "# https://www.udemy.com/bayesian-machine-learning-in-python-ab-testing\n",
        "from __future__ import print_function, division\n",
        "from builtins import range\n",
        "# Note: you may need to update your version of future\n",
        "# sudo pip install -U future"
      ]
    },
    {
      "cell_type": "code",
      "source": [
        "import matplotlib.pyplot as plt\n",
        "import numpy as np"
      ],
      "metadata": {
        "id": "x2DYZYSp1y8w"
      },
      "execution_count": 2,
      "outputs": []
    },
    {
      "cell_type": "code",
      "source": [
        "NUM_TRIALS = 10000\n",
        "EPS = 0.1\n",
        "BANDIT_PROBABILITIES = [0.2, 0.5, 0.75]"
      ],
      "metadata": {
        "id": "NZDe3_9-12oQ"
      },
      "execution_count": 3,
      "outputs": []
    },
    {
      "cell_type": "code",
      "source": [
        "class Bandit:\n",
        "  def __init__(self, p):\n",
        "    # p: the win rate\n",
        "    self.p = p\n",
        "    self.p_estimate = 5.\n",
        "    self.N = 1. # num samples collected so far\n",
        "\n",
        "  def pull(self):\n",
        "    # draw a 1 with probability p\n",
        "    return np.random.random() < self.p\n",
        "\n",
        "  def update(self, x):\n",
        "    self.N += 1.\n",
        "    self.p_estimate = ((self.N - 1)*self.p_estimate + x) / self.N"
      ],
      "metadata": {
        "id": "68xxlzpM15fA"
      },
      "execution_count": 4,
      "outputs": []
    },
    {
      "cell_type": "code",
      "source": [
        "def experiment():\n",
        "  bandits = [Bandit(p) for p in BANDIT_PROBABILITIES]\n",
        "\n",
        "  rewards = np.zeros(NUM_TRIALS)\n",
        "  for i in range(NUM_TRIALS):\n",
        "    # use optimistic initial values to select the next bandit\n",
        "    j = np.argmax([b.p_estimate for b in bandits])\n",
        "\n",
        "    # pull the arm for the bandit with the largest sample\n",
        "    x = bandits[j].pull()\n",
        "\n",
        "    # update rewards log\n",
        "    rewards[i] = x\n",
        "\n",
        "    # update the distribution for the bandit whose arm we just pulled\n",
        "    bandits[j].update(x)\n",
        "\n",
        "\n",
        "  # print mean estimates for each bandit\n",
        "  for b in bandits:\n",
        "    print(\"mean estimate:\", b.p_estimate)\n",
        "\n",
        "  # print total reward\n",
        "  print(\"total reward earned:\", rewards.sum())\n",
        "  print(\"overall win rate:\", rewards.sum() / NUM_TRIALS)\n",
        "  print(\"num times selected each bandit:\", [b.N for b in bandits])\n",
        "\n",
        "  # plot the results\n",
        "  cumulative_rewards = np.cumsum(rewards)\n",
        "  win_rates = cumulative_rewards / (np.arange(NUM_TRIALS) + 1)\n",
        "  plt.ylim([0, 1])\n",
        "  plt.plot(win_rates)\n",
        "  plt.plot(np.ones(NUM_TRIALS)*np.max(BANDIT_PROBABILITIES))\n",
        "  plt.show()"
      ],
      "metadata": {
        "id": "q4k6aIyS19Pp"
      },
      "execution_count": 5,
      "outputs": []
    },
    {
      "cell_type": "code",
      "source": [
        "if __name__ == \"__main__\":\n",
        "  experiment()"
      ],
      "metadata": {
        "colab": {
          "base_uri": "https://localhost:8080/",
          "height": 545
        },
        "id": "PMKhujXI2Esv",
        "outputId": "1e6d11d0-cc1b-4ed3-db33-222ca5ffc941"
      },
      "execution_count": 6,
      "outputs": [
        {
          "output_type": "stream",
          "name": "stdout",
          "text": [
            "mean estimate: 0.7142857142857143\n",
            "mean estimate: 0.7142857142857143\n",
            "mean estimate: 0.7435178696566219\n",
            "total reward earned: 7422.0\n",
            "overall win rate: 0.7422\n",
            "num times selected each bandit: [7.0, 7.0, 9989.0]\n"
          ]
        },
        {
          "output_type": "display_data",
          "data": {
            "text/plain": [
              "<Figure size 640x480 with 1 Axes>"
            ],
            "image/png": "[encoded data removed]"
          },
          "metadata": {}
        }
      ]
    }
  ]
}