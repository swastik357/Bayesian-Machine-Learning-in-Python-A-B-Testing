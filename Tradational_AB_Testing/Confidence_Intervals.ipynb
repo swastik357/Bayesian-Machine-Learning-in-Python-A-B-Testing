{
  "nbformat": 4,
  "nbformat_minor": 0,
  "metadata": {
    "colab": {
      "provenance": []
    },
    "kernelspec": {
      "name": "python3",
      "display_name": "Python 3"
    },
    "language_info": {
      "name": "python"
    }
  },
  "cells": [
    {
      "cell_type": "code",
      "execution_count": 1,
      "metadata": {
        "id": "dUQREs9PSQij"
      },
      "outputs": [],
      "source": [
        "import numpy as np\n",
        "from scipy.stats import norm, t"
      ]
    },
    {
      "cell_type": "code",
      "source": [
        "np.random.seed(1)"
      ],
      "metadata": {
        "id": "XfSz2CX0Sq_V"
      },
      "execution_count": 2,
      "outputs": []
    },
    {
      "cell_type": "code",
      "source": [
        "N = 1000\n",
        "mu = 5\n",
        "sigma = 2\n",
        "X = np.random.randn(N)*sigma + mu"
      ],
      "metadata": {
        "id": "qhjgtU6fSuqQ"
      },
      "execution_count": 3,
      "outputs": []
    },
    {
      "cell_type": "code",
      "source": [
        "# Z-confidence interval\n",
        "mu_hat = np.mean(X)\n",
        "sigma_hat = np.std(X, ddof=1)\n",
        "z_left = norm.ppf(0.025)\n",
        "z_right = norm.ppf(0.975)\n",
        "lower = mu_hat + z_left * sigma_hat / np.sqrt(N)\n",
        "upper = mu_hat + z_right * sigma_hat / np.sqrt(N)\n",
        "print(mu_hat, lower, upper)"
      ],
      "metadata": {
        "colab": {
          "base_uri": "https://localhost:8080/"
        },
        "id": "q1RpgY1YTK6n",
        "outputId": "72dea702-dbc8-4b0a-f73d-9a6b0545ce1a"
      },
      "execution_count": 4,
      "outputs": [
        {
          "output_type": "stream",
          "name": "stdout",
          "text": [
            "5.077624952319204 4.955959806754385 5.199290097884023\n"
          ]
        }
      ]
    },
    {
      "cell_type": "code",
      "source": [
        "# t-confidence interval\n",
        "mu_hat = np.mean(X)\n",
        "sigma_hat = np.std(X, ddof=1)\n",
        "t_left = t.ppf(0.025, df=N - 1)\n",
        "t_right = t.ppf(0.975, df=N - 1)\n",
        "lower = mu_hat + t_left * sigma_hat / np.sqrt(N)\n",
        "upper = mu_hat + t_right * sigma_hat / np.sqrt(N)\n",
        "print(mu_hat, lower, upper)"
      ],
      "metadata": {
        "colab": {
          "base_uri": "https://localhost:8080/"
        },
        "id": "wBFYeFkGTeCX",
        "outputId": "ef1207bc-5375-4ae3-e9fa-0bc62835e29b"
      },
      "execution_count": 5,
      "outputs": [
        {
          "output_type": "stream",
          "name": "stdout",
          "text": [
            "5.077624952319204 4.9558122244324165 5.199437680205992\n"
          ]
        }
      ]
    },
    {
      "cell_type": "code",
      "source": [
        "# Interpretation of confidence interval\n",
        "# If we do this experiment many times, then for the 95% CI\n",
        "# the 95% CI should contain the true value 95% of the time\n",
        "def experiment():\n",
        "  X = np.random.randn(N)*sigma + mu\n",
        "  mu_hat = np.mean(X)\n",
        "  sigma_hat = np.std(X, ddof=1)\n",
        "  t_left = t.ppf(0.025, df=N - 1)\n",
        "  t_right = t.ppf(0.975, df=N - 1)\n",
        "  lower = mu_hat + t_left * sigma_hat / np.sqrt(N)\n",
        "  upper = mu_hat + t_right * sigma_hat / np.sqrt(N)\n",
        "  return mu > lower and mu < upper"
      ],
      "metadata": {
        "id": "CcoRDYERTpxr"
      },
      "execution_count": 6,
      "outputs": []
    },
    {
      "cell_type": "code",
      "source": [
        "def multi_experiment(M):\n",
        "  results = [experiment() for _ in range(M)]\n",
        "  return np.mean(results)"
      ],
      "metadata": {
        "id": "qZCr2M7QT8aZ"
      },
      "execution_count": 7,
      "outputs": []
    },
    {
      "cell_type": "code",
      "source": [
        "multi_experiment(10000)"
      ],
      "metadata": {
        "colab": {
          "base_uri": "https://localhost:8080/"
        },
        "id": "bunJspuWUJG-",
        "outputId": "c51a3cde-ae38-4c16-f0a9-aca67b19c3db"
      },
      "execution_count": 8,
      "outputs": [
        {
          "output_type": "execute_result",
          "data": {
            "text/plain": [
              "0.9506"
            ]
          },
          "metadata": {},
          "execution_count": 8
        }
      ]
    }
  ]
}